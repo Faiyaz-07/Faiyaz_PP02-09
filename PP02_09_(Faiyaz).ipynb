{
  "nbformat": 4,
  "nbformat_minor": 0,
  "metadata": {
    "colab": {
      "provenance": [],
      "authorship_tag": "ABX9TyMpBIYUvkTaDPSMwqW6LME6",
      "include_colab_link": true
    },
    "kernelspec": {
      "name": "python3",
      "display_name": "Python 3"
    },
    "language_info": {
      "name": "python"
    }
  },
  "cells": [
    {
      "cell_type": "markdown",
      "metadata": {
        "id": "view-in-github",
        "colab_type": "text"
      },
      "source": [
        "<a href=\"https://colab.research.google.com/github/Faiyaz-07/Faiyaz_PP02-09/blob/main/PP02_09_(Faiyaz).ipynb\" target=\"_parent\"><img src=\"https://colab.research.google.com/assets/colab-badge.svg\" alt=\"Open In Colab\"/></a>"
      ]
    },
    {
      "cell_type": "markdown",
      "source": [
        "# Cell 1: SET UP & IMPORT LIBRARIES"
      ],
      "metadata": {
        "id": "0loLCjIyui5N"
      }
    },
    {
      "cell_type": "code",
      "source": [
        "# Import necessary libraries\n",
        "import csv\n",
        "import json\n",
        "import os\n",
        "from datetime import datetime, timedelta\n",
        "import matplotlib.pyplot as plt\n"
      ],
      "metadata": {
        "id": "5XMaw_Oeuwps"
      },
      "execution_count": 27,
      "outputs": []
    },
    {
      "cell_type": "markdown",
      "source": [
        "#Cell 2: Task Management - Adding and Saving Tasks"
      ],
      "metadata": {
        "id": "09kp9YFmu0_t"
      }
    },
    {
      "cell_type": "code",
      "source": [
        "# Initialize an empty task list\n",
        "tasks = []\n",
        "\n",
        "# Function to add a new task\n",
        "def add_task(title, description, priority, deadline=None):\n",
        "    task = {\n",
        "        \"title\": title,\n",
        "        \"description\": description,\n",
        "        \"priority\": priority,\n",
        "        \"deadline\": deadline,\n",
        "        \"status\": \"Pending\"\n",
        "    }\n",
        "    tasks.append(task)\n",
        "    save_tasks_to_file()\n",
        "    print(\"Task added successfully!\")\n",
        "\n",
        "# Function to save tasks to a CSV file\n",
        "def save_tasks_to_file(filename='tasks.csv'):\n",
        "    with open(filename, mode='w', newline='') as file:\n",
        "        writer = csv.DictWriter(file, fieldnames=tasks[0].keys())\n",
        "        writer.writeheader()\n",
        "        writer.writerows(tasks)\n",
        "    print(\"Tasks saved to file.\")\n"
      ],
      "metadata": {
        "id": "Btsh0q6HviRi"
      },
      "execution_count": 28,
      "outputs": []
    },
    {
      "cell_type": "markdown",
      "source": [
        "#Cell 3: Task Status UpdatesUpdates"
      ],
      "metadata": {
        "id": "XUF-Fe7OvuSf"
      }
    },
    {
      "cell_type": "code",
      "source": [
        "# Function to update task sstatustatus\n",
        "def updupdateupdupdateateate_task_status(task_title, new_status):\n",
        "    \"\"\"\n",
        "\n",
        "    Args:\n",
        "      task_title:\n",
        "      new_status:\n",
        "    \"\"\"\n",
        "    for task in tasks:\n",
        "        if task['title'] == task_title:\n",
        "            task['status'] = new_status\n",
        "            save_tasks_to_file()\n",
        "            print(f\"Status for '{task_title}' updated to '{new_status}'.\")\n",
        "            return\n",
        "    print(\"Task not found.\")\n"
      ],
      "metadata": {
        "id": "cBDBRAOGwRRJ"
      },
      "execution_count": null,
      "outputs": []
    },
    {
      "cell_type": "markdown",
      "source": [
        "# Cell 4: Task Sorting and Filtering"
      ],
      "metadata": {
        "id": "tpGReDciwq47"
      }
    },
    {
      "cell_type": "code",
      "source": [
        "# Function to sort tasks by a key\n",
        "def sort_tasks_by(key):\n",
        "    sorted_tasks = sorted(tasks, key=lambda x: x[key] if x[key] else \"\")\n",
        "    for task in sorted_tasks:\n",
        "        print(task)\n",
        "\n",
        "# Function to filter tasks by a specific key and value\n",
        "def filter_tasks_by(key, value):\n",
        "    filtered_tasks = [task for task in tasks if task[key] == value]\n",
        "    for task in filtered_tasks:\n",
        "        print(task)\n"
      ],
      "metadata": {
        "id": "Bq11u8-6xXAX"
      },
      "execution_count": null,
      "outputs": []
    },
    {
      "cell_type": "markdown",
      "source": [
        "# Cell 5: Reminders"
      ],
      "metadata": {
        "id": "7-pyhpRyx5eQ"
      }
    },
    {
      "cell_type": "code",
      "source": [
        "# Function to display reminders for upcoming or overdue tasks\n",
        "def display_reminders():\n",
        "    now = datetime.now()\n",
        "    for task in tasks:\n",
        "        if task['deadline']:\n",
        "            deadline = datetime.strptime(task['deadline'], '%Y-%m-%d')\n",
        "            if deadline < now:\n",
        "                print(f\"Overdue Task: {task['title']} - Deadline: {task['deadline']}\")\n",
        "            elif now + timedelta(days=1) >= deadline:\n",
        "                print(f\"Upcoming Task: {task['title']} - Deadline: {task['deadline']}\")\n"
      ],
      "metadata": {
        "id": "bcItR4kux8bd"
      },
      "execution_count": null,
      "outputs": []
    },
    {
      "cell_type": "markdown",
      "source": [
        "# Cell 6: Analytics and Reports"
      ],
      "metadata": {
        "id": "-OoyoRdKyaKJ"
      }
    },
    {
      "cell_type": "code",
      "source": [
        "# Function to generate task summaries\n",
        "def generate_summary():\n",
        "    total_tasks = len(tasks)\n",
        "    completed_tasks = len([task for task in tasks if task['status'] == 'Completed'])\n",
        "    pending_tasks = len([task for task in tasks if task['status'] == 'Pending'])\n",
        "\n",
        "    print(f\"Total Tasks: {total_tasks}\")\n",
        "    print(f\"Completed Tasks: {completed_tasks}\")\n",
        "    print(f\"Pending Tasks: {pending_tasks}\")\n",
        "\n",
        "# Function to export summary as CSV\n",
        "def export_summary(filename='summary.csv'):\n",
        "    summary = {\n",
        "        \"Total Tasks\": len(tasks),\n",
        "        \"Completed Tasks\": len([task for task in tasks if task['status'] == 'Completed']),\n",
        "        \"Pending Tasks\": len([task for task in tasks if task['status'] == 'Pending'])\n",
        "    }\n",
        "    with open(filename, mode='w', newline='') as file:\n",
        "        writer = csv.DictWriter(file, fieldnames=summary.keys())\n",
        "        writer.writeheader()\n",
        "        writer.writerow(summary)\n",
        "    print(\"Summary exported to file.\")\n"
      ],
      "metadata": {
        "id": "SdT6_oX9ye5t"
      },
      "execution_count": null,
      "outputs": []
    },
    {
      "cell_type": "markdown",
      "source": [
        "# Cell 7: Advanced Features (Optional)"
      ],
      "metadata": {
        "id": "xZUWb8uzyppS"
      }
    },
    {
      "cell_type": "code",
      "source": [
        "# Visualization: Chart for task distribution by status\n",
        "def plot_task_distribution():\n",
        "    statuses = [\"Pending\", \"In Progress\", \"Completed\"]\n",
        "    counts = [len([task for task in tasks if task['status'] == status]) for status in statuses]\n",
        "\n",
        "    plt.bar(statuses, counts, color=['blue', 'orange', 'green'])\n",
        "    plt.title(\"Task Distribution by Status\")\n",
        "    plt.xlabel(\"Status\")\n",
        "    plt.ylabel(\"Number of Tasks\")\n",
        "    plt.show()\n"
      ],
      "metadata": {
        "id": "2wIIMDU9yuYH"
      },
      "execution_count": null,
      "outputs": []
    },
    {
      "cell_type": "markdown",
      "source": [
        "# Cell 8: User InterfaceInterface"
      ],
      "metadata": {
        "id": "Mowx7LKqy4O7"
      }
    },
    {
      "cell_type": "code",
      "source": [
        "# Main menu for task management\n",
        "def main_menu():\n",
        "    while True:\n",
        "        print(\"\\nTask Manager Menu\")\n",
        "        print(\"1. Add Task\")\n",
        "        print(\"2. Update Task Status\")\n",
        "        print(\"3. Sort Tasks\")\n",
        "        print(\"4. Filter Tasks\")\n",
        "        print(\"5. Display Reminders\")\n",
        "        print(\"6. Generate Summary\")\n",
        "        print(\"7. Plot Task Distribution\")\n",
        "        print(\"8. Exit\")\n",
        "\n",
        "        choice = input(\"Enter your choice: \")\n",
        "\n",
        "        if choice == '1':\n",
        "            title = input(\"Task Title: \")\n",
        "            description = input(\"Task Description: \")\n",
        "            priority = input(\"Priority (High/Medium/Low): \")\n",
        "            deadline = input(\"Deadline (YYYY-MM-DD, optional): \")\n",
        "            add_task(title, description, priority, deadline)\n",
        "        elif choice == '2':\n",
        "            task_title = input(\"Task Title: \")\n",
        "            new_status = input(\"New Status (Pending/In Progress/Completed): \")\n",
        "            update_task_status(task_title, new_status)\n",
        "        elif choice == '3':\n",
        "            key = input(\"Sort by (title/priority/status/deadline): \")\n",
        "            sort_tasks_by(key)\n",
        "        elif choice == '4':\n",
        "            key = input(\"Filter by (priority/status): \")\n",
        "            value = input(\"Value: \")\n",
        "            filter_tasks_by(key, value)\n",
        "        elif choice == '5':\n",
        "            display_reminders()\n",
        "        elif choice == '6':\n",
        "            generate_summary()\n",
        "            export_summary()\n",
        "        elif choice == '7':\n",
        "            plot_task_distribution()\n",
        "        elif choice == '8':\n",
        "            print(\"Exiting Task Manager.\")\n",
        "            break\n",
        "        else:\n",
        "            print(\"Invalid choice. Try again.\")\n"
      ],
      "metadata": {
        "id": "7KNOEQtxzDfz"
      },
      "execution_count": null,
      "outputs": []
    }
  ]
}