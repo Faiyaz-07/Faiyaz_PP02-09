{
  "nbformat": 4,
  "nbformat_minor": 0,
  "metadata": {
    "colab": {
      "provenance": [],
      "authorship_tag": "ABX9TyNN2lTuq85RHCx/reeO7sNu",
      "include_colab_link": true
    },
    "kernelspec": {
      "name": "python3",
      "display_name": "Python 3"
    },
    "language_info": {
      "name": "python"
    }
  },
  "cells": [
    {
      "cell_type": "markdown",
      "metadata": {
        "id": "view-in-github",
        "colab_type": "text"
      },
      "source": [
        "<a href=\"https://colab.research.google.com/github/Faiyaz-07/Faiyaz_PP02-09/blob/main/Final_Project_(Faiyaz_PP02_09).ipynb\" target=\"_parent\"><img src=\"https://colab.research.google.com/assets/colab-badge.svg\" alt=\"Open In Colab\"/></a>"
      ]
    },
    {
      "cell_type": "code",
      "execution_count": 3,
      "metadata": {
        "id": "nkcC_DIuRhsu"
      },
      "outputs": [],
      "source": [
        "import csv\n",
        "import os\n",
        "TASKS_FILE = \"tasks.csv\"\n",
        "def initialize_tasks_file():\n",
        "    if not os.path.exists(TASKS_FILE):\n",
        "        with open(TASKS_FILE, mode='w', newline='') as file:\n",
        "            writer = csv.writer(file)\n",
        "            writer.writerow([\"title\", \"description\", \"priority\", \"deadline\", \"status\", \"tags\"])\n",
        "\n",
        "def load_tasks_from_csv():\n",
        "    tasks = []\n",
        "    with open(TASKS_FILE, mode='r') as file:\n",
        "        reader = csv.DictReader(file)\n",
        "        for row in reader:\n",
        "            tasks.append(row)\n",
        "    return tasks\n",
        "\n",
        "def save_task_to_csv(task):\n",
        "    with open(TASKS_FILE, mode='a', newline='') as file:\n",
        "        writer = csv.writer(file)\n",
        "        writer.writerow([task[\"title\"], task[\"description\"], task[\"priority\"], task[\"deadline\"], task[\"status\"], \";\".join(task[\"tags\"])])\n",
        "\n",
        "\n",
        "def save_all_tasks_to_csv(tasks):\n",
        "    with open(TASKS_FILE, mode='w', newline='') as file:\n",
        "        writer = csv.writer(file)\n",
        "        writer.writerow([\"title\", \"description\", \"priority\", \"deadline\", \"status\", \"tags\"])\n",
        "        for task in tasks:\n",
        "            writer.writerow([task[\"title\"], task[\"description\"], task[\"priority\"], task[\"deadline\"], task[\"status\"], \";\".join(task[\"tags\"])])\n"
      ]
    },
    {
      "cell_type": "code",
      "source": [
        "def add_task():\n",
        "    title = input(\"Enter task title: \")\n",
        "    description = input(\"Enter task description: \")\n",
        "    priority = input(\"Enter task priority (High/Medium/Low): \")\n",
        "    deadline = input(\"Enter task deadline (YYYY-MM-DD, optional): \")\n",
        "    status = \"Pending\"\n",
        "    tags = input(\"Enter tags (comma-separated, optional): \").split(\",\") if input(\"Do you want to add tags? (y/n): \").lower() == \"y\" else []\n",
        "\n",
        "    task = {\n",
        "        \"title\": title,\n",
        "        \"description\": description,\n",
        "        \"priority\": priority,\n",
        "        \"deadline\": deadline,\n",
        "        \"status\": status,\n",
        "        \"tags\": tags\n",
        "    }\n",
        "\n",
        "    save_task_to_csv(task)\n",
        "    print(f\"Task '{title}' added successfully!\")\n"
      ],
      "metadata": {
        "id": "fIVxg5HERr20"
      },
      "execution_count": 4,
      "outputs": []
    },
    {
      "cell_type": "code",
      "source": [
        "def view_tasks():\n",
        "    tasks = load_tasks_from_csv()\n",
        "    if not tasks:\n",
        "        print(\"No tasks found!\")\n",
        "        return\n",
        "\n",
        "    print(f\"{'Title':<20} | {'Priority':<10} | {'Deadline':<12} | {'Status':<10} | {'Tags':<15}\")\n",
        "    print(\"-\" * 80)\n",
        "    for task in tasks:\n",
        "        tags = \", \".join(task[\"tags\"].split(\";\")) if task[\"tags\"] else \"None\"\n",
        "        print(f\"{task['title']:<20} | {task['priority']:<10} | {task['deadline']:<12} | {task['status']:<10} | {tags:<15}\")\n"
      ],
      "metadata": {
        "id": "XmMPW725R01b"
      },
      "execution_count": 5,
      "outputs": []
    },
    {
      "cell_type": "code",
      "source": [
        "def update_task_status():\n",
        "    tasks = load_tasks_from_csv()\n",
        "    if not tasks:\n",
        "        print(\"No tasks to update!\")\n",
        "        return\n",
        "\n",
        "    view_tasks()\n",
        "    title = input(\"Enter the title of the task to update: \")\n",
        "    task_found = False\n",
        "    for task in tasks:\n",
        "        if task[\"title\"] == title:\n",
        "            task_found = True\n",
        "            new_status = input(\"Enter new status (Pending/In Progress/Completed): \")\n",
        "            task[\"status\"] = new_status\n",
        "            save_all_tasks_to_csv(tasks)\n",
        "            print(f\"Task '{title}' updated successfully!\")\n",
        "            break\n",
        "\n",
        "    if not task_found:\n",
        "        print(\"Task not found!\")\n"
      ],
      "metadata": {
        "id": "HUxQIOjcR69P"
      },
      "execution_count": 6,
      "outputs": []
    },
    {
      "cell_type": "code",
      "source": [
        "def main_menu():\n",
        "    initialize_tasks_file()\n",
        "    while True:\n",
        "        print(\"\\nTask Manager\")\n",
        "        print(\"1. Add Task\")\n",
        "        print(\"2. View All Tasks\")\n",
        "        print(\"3. Update Task Status\")\n",
        "        print(\"4. Exit\")\n",
        "\n",
        "        choice = input(\"Enter your choice: \")\n",
        "        if choice == \"1\":\n",
        "            add_task()\n",
        "        elif choice == \"2\":\n",
        "            view_tasks()\n",
        "        elif choice == \"3\":\n",
        "            update_task_status()\n",
        "        elif choice == \"4\":\n",
        "            print(\"Exiting Task Manager. Goodbye!\")\n",
        "            break\n",
        "        else:\n",
        "            print(\"Invalid choice! Please try again.\")\n"
      ],
      "metadata": {
        "id": "llIoDjYqSARz"
      },
      "execution_count": 7,
      "outputs": []
    },
    {
      "cell_type": "code",
      "source": [
        "import matplotlib.pyplot as plt\n",
        "\n",
        "def plot_task_distribution_by_status():\n",
        "    tasks = load_tasks_from_csv()\n",
        "    if not tasks:\n",
        "        print(\"No tasks available for visualization!\")\n",
        "        return\n",
        "\n",
        "    # Count tasks by status\n",
        "    statuses = [\"Pending\", \"In Progress\", \"Completed\"]\n",
        "    counts = [len([t for t in tasks if t[\"status\"] == status]) for status in statuses]\n",
        "\n",
        "    # Plot the bar chart\n",
        "    plt.bar(statuses, counts, color=['blue', 'orange', 'green'])\n",
        "    plt.title(\"Task Distribution by Status\")\n",
        "    plt.xlabel(\"Status\")\n",
        "    plt.ylabel(\"Number of Tasks\")\n",
        "    plt.show()\n",
        "\n",
        "def plot_task_distribution_by_priority():\n",
        "    tasks = load_tasks_from_csv()\n",
        "    if not tasks:\n",
        "        print(\"No tasks available for visualization!\")\n",
        "        return\n",
        "    priorities = [\"High\", \"Medium\", \"Low\"]\n",
        "    counts = [len([t for t in tasks if t[\"priority\"] == priority]) for priority in priorities]\n",
        "\n",
        "    plt.bar(priorities, counts, color=['red', 'yellow', 'green'])\n",
        "    plt.title(\"Task Distribution by Priority\")\n",
        "    plt.xlabel(\"Priority\")\n",
        "    plt.ylabel(\"Number of Tasks\")\n",
        "    plt.show()\n"
      ],
      "metadata": {
        "id": "xxmuvRNbSE0D"
      },
      "execution_count": 8,
      "outputs": []
    },
    {
      "cell_type": "code",
      "source": [
        "def plot_task_distribution_pie():\n",
        "    tasks = load_tasks_from_csv()\n",
        "    if not tasks:\n",
        "        print(\"No tasks available for visualization!\")\n",
        "        return\n",
        "\n",
        "    statuses = [\"Pending\", \"In Progress\", \"Completed\"]\n",
        "    counts = [len([t for t in tasks if t[\"status\"] == status]) for status in statuses]\n",
        "    plt.pie(counts, labels=statuses, autopct='%1.1f%%', startangle=90, colors=['blue', 'orange', 'green'])\n",
        "    plt.title(\"Task Distribution by Status\")\n",
        "    plt.show()\n"
      ],
      "metadata": {
        "id": "HVJSE-YbSK1u"
      },
      "execution_count": 9,
      "outputs": []
    },
    {
      "cell_type": "code",
      "source": [
        "def main_menu():\n",
        "    initialize_tasks_file()\n",
        "    while True:\n",
        "        print(\"\\nTask Manager\")\n",
        "        print(\"1. Add Task\")\n",
        "        print(\"2. View All Tasks\")\n",
        "        print(\"3. Update Task Status\")\n",
        "        print(\"4. Plot Task Distribution by Status\")\n",
        "        print(\"5. Plot Task Distribution by Priority\")\n",
        "        print(\"6. Exit\")\n",
        "\n",
        "        choice = input(\"Enter your choice: \")\n",
        "        if choice == \"1\":\n",
        "            add_task()\n",
        "        elif choice == \"2\":\n",
        "            view_tasks()\n",
        "        elif choice == \"3\":\n",
        "            update_task_status()\n",
        "        elif choice == \"4\":\n",
        "            plot_task_distribution_by_status()\n",
        "        elif choice == \"5\":\n",
        "            plot_task_distribution_by_priority()\n",
        "        elif choice == \"6\":\n",
        "            print(\"Exiting Task Manager. Goodbye!\")\n",
        "            break\n",
        "        else:\n",
        "            print(\"Invalid choice! Please try again.\")\n"
      ],
      "metadata": {
        "id": "H6wSBgNgSQ5D"
      },
      "execution_count": 10,
      "outputs": []
    },
    {
      "cell_type": "code",
      "source": [
        "if __name__ == \"__main__\":\n",
        "    main_menu()"
      ],
      "metadata": {
        "colab": {
          "base_uri": "https://localhost:8080/",
          "height": 1000
        },
        "id": "wl-1Cgl3SXYj",
        "outputId": "5aad11cd-1e9c-468c-b373-9f52f5480c70"
      },
      "execution_count": 12,
      "outputs": [
        {
          "name": "stdout",
          "output_type": "stream",
          "text": [
            "\n",
            "Task Manager\n",
            "1. Add Task\n",
            "2. View All Tasks\n",
            "3. Update Task Status\n",
            "4. Plot Task Distribution by Status\n",
            "5. Plot Task Distribution by Priority\n",
            "6. Exit\n",
            "Enter your choice: 1\n",
            "Enter task title: Learning Python\n",
            "Enter task description: Have to finish course on Python from CourseEra.\n",
            "Enter task priority (High/Medium/Low): Medium\n",
            "Enter task deadline (YYYY-MM-DD, optional): 2024-12-30\n",
            "Do you want to add tags? (y/n): y\n",
            "Enter tags (comma-separated, optional): Learnn, Program\n",
            "Task 'Learning Python' added successfully!\n",
            "\n",
            "Task Manager\n",
            "1. Add Task\n",
            "2. View All Tasks\n",
            "3. Update Task Status\n",
            "4. Plot Task Distribution by Status\n",
            "5. Plot Task Distribution by Priority\n",
            "6. Exit\n",
            "Enter your choice: 2\n",
            "Title                | Priority   | Deadline     | Status     | Tags           \n",
            "--------------------------------------------------------------------------------\n",
            "Learning Python      | Medium     | 2024-12-30   | Pending    | Learnn,  Program\n",
            "\n",
            "Task Manager\n",
            "1. Add Task\n",
            "2. View All Tasks\n",
            "3. Update Task Status\n",
            "4. Plot Task Distribution by Status\n",
            "5. Plot Task Distribution by Priority\n",
            "6. Exit\n",
            "Enter your choice: 4\n"
          ]
        },
        {
          "output_type": "display_data",
          "data": {
            "text/plain": [
              "<Figure size 640x480 with 1 Axes>"
            ],
            "image/png": "[encoded data removed]"
          },
          "metadata": {}
        },
        {
          "name": "stdout",
          "output_type": "stream",
          "text": [
            "\n",
            "Task Manager\n",
            "1. Add Task\n",
            "2. View All Tasks\n",
            "3. Update Task Status\n",
            "4. Plot Task Distribution by Status\n",
            "5. Plot Task Distribution by Priority\n",
            "6. Exit\n",
            "Enter your choice: 5\n"
          ]
        },
        {
          "output_type": "display_data",
          "data": {
            "text/plain": [
              "<Figure size 640x480 with 1 Axes>"
            ],
            "image/png": "[encoded data removed]"
          },
          "metadata": {}
        },
        {
          "output_type": "stream",
          "name": "stdout",
          "text": [
            "\n",
            "Task Manager\n",
            "1. Add Task\n",
            "2. View All Tasks\n",
            "3. Update Task Status\n",
            "4. Plot Task Distribution by Status\n",
            "5. Plot Task Distribution by Priority\n",
            "6. Exit\n",
            "Enter your choice: 6\n",
            "Exiting Task Manager. Goodbye!\n"
          ]
        }
      ]
    }
  ]
}